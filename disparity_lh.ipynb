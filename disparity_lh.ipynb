{
 "cells": [
  {
   "cell_type": "markdown",
   "id": "6915edaa-dde7-4dad-b802-3ebb0215b3ef",
   "metadata": {},
   "source": [
    "# Find words that are similar to other words in the same text\n",
    "\n",
    "This is an exploration of different ways to compare words in a text to other words in the same text based on their vectors.\n",
    "\n",
    "Would likely be easier to do this using Gensim, but I am pretty happy with spaCy/numpy approach below.\n",
    "\n",
    "If semantic similarity would to be developed into a measure of lexical diversity (similar to type-token ratio), I think it should probably be based on a clustering algorithm of some sort."
   ]
  },
  {
   "cell_type": "code",
   "execution_count": 2,
   "id": "dbce0da8-a50e-44bb-854d-a2c784a5ca0e",
   "metadata": {},
   "outputs": [],
   "source": [
    "import spacy\n",
    "spacy.require_cpu()\n",
    "nlp = spacy.load('en_core_web_lg')\n",
    "\n",
    "# doc = nlp('i wrote a letter in a text book document a documents an document an documented written writing.')\n",
    "doc = nlp('I wrote a long letter to the postman. The missive had many words and the paper it was written on was book quality')"
   ]
  },
  {
   "cell_type": "markdown",
   "id": "1dbb9ad2-0561-4b6b-a914-8196c4dfc14f",
   "metadata": {},
   "source": [
    "Vectors are calculated on a lexeme basis, so let's first get a list of lexemes in the document, so we don't waste computation comparing different pairs of tokens that have the same underlying lexemes. Importantly, we also make it a set() so that we don't have duplicates.\n",
    "\n",
    "Lexemes (unlike tokens) do not have a __str__ method, so we have to manually call the .text attribute when we want to print."
   ]
  },
  {
   "cell_type": "markdown",
   "id": "3a47b868-d2d6-450b-9375-555ab8c6e1df",
   "metadata": {
    "tags": []
   },
   "source": [
    "## spaCy lexeme approach"
   ]
  },
  {
   "cell_type": "code",
   "execution_count": 234,
   "id": "59acdc79-6302-4119-8ff4-d9299cc3583d",
   "metadata": {},
   "outputs": [
    {
     "name": "stdout",
     "output_type": "stream",
     "text": [
      "['written', 'had', 'to', 'the', '.', 'it', 'paper', 'a', 'long', 'postman', 'words', 'quality', 'on', 'wrote', 'missive', 'I', 'and', 'was', 'book', 'The', 'many', 'letter']\n",
      "\n",
      "[('written', 'had'), ('written', 'to'), ('written', 'the'), ('written', '.'), ('written', 'it'), ('written', 'paper'), ('written', 'a'), ('written', 'long'), ('written', 'postman'), ('written', 'words') ... ]\n"
     ]
    }
   ],
   "source": [
    "lexemes = set([tok.lex for tok in doc])\n",
    "print([lex.text for lex in lexemes], end = '\\n\\n')\n",
    "\n",
    "# get unique pairs of lexemes (order does not matter, lexeme not compared to itself)\n",
    "from itertools import combinations\n",
    "\n",
    "sent_combinations = list(combinations(lexemes, 2))\n",
    "print(str([(lex_1.text, lex_2.text) for lex_1, lex_2 in sent_combinations[:10]])[:-1], '... ]')"
   ]
  },
  {
   "cell_type": "code",
   "execution_count": 242,
   "id": "4b00df18-1823-429d-9b68-4159da722561",
   "metadata": {},
   "outputs": [
    {
     "name": "stdout",
     "output_type": "stream",
     "text": [
      "written book 0.57\n",
      "had was 0.81\n",
      "to it 0.62\n",
      "the The 1.0\n",
      ". it 0.49\n",
      "it was 0.63\n",
      "paper book 0.48\n",
      "a the 0.59\n",
      "long it 0.6\n",
      "postman missive 0.33\n",
      "words written 0.54\n",
      "quality many 0.42\n",
      "on the 0.49\n",
      "wrote written 0.56\n",
      "missive letter 0.54\n",
      "I it 0.55\n",
      "and the 0.56\n",
      "was had 0.81\n",
      "book written 0.57\n",
      "The the 1.0\n",
      "many it 0.57\n",
      "letter written 0.56\n"
     ]
    }
   ],
   "source": [
    "'''\n",
    "{token_a_0: \n",
    "        {token_b_0: similarity_to_token_a_0,\n",
    "         token_b_1: similarity_to_token_a_0}\n",
    "}\n",
    "'''\n",
    "from collections import defaultdict\n",
    "replacement_dict = defaultdict(dict)\n",
    "record_of_comparisons = set()\n",
    "\n",
    "for pair in sent_combinations:\n",
    "    pair_set = frozenset(pair)\n",
    "    # if pair_set in record_of_comparisons:\n",
    "    #     continue # continue to next iteration without completing the rest of the loop\n",
    "    record_of_comparisons.add(pair_set)\n",
    "    lex_1, lex_2 = pair\n",
    "    sim = lex_1.similarity(lex_2)\n",
    "    # if 0.4 < sim < 1.0:\n",
    "    #     print(lex_1.text, lex_2.text, sim)\n",
    "    replacement_dict[lex_1.text][lex_2.text] = sim\n",
    "    replacement_dict[lex_2.text][lex_1.text] = sim\n",
    "    \n",
    "for tok, comparisons in replacement_dict.items():\n",
    "    neighbor = max(comparisons, key=comparisons.get)\n",
    "    print(tok, neighbor, round(comparisons[neighbor], 2))"
   ]
  },
  {
   "cell_type": "code",
   "execution_count": 250,
   "id": "5c8c04e6-a949-4066-bdef-306bf49ccfa8",
   "metadata": {},
   "outputs": [
    {
     "name": "stdout",
     "output_type": "stream",
     "text": [
      "I wrote a long letter it The postman. the missive was many words and The paper was had written on had book quality\n"
     ]
    }
   ],
   "source": [
    "def replace_alike(orig_sent, replacement_dict, min_sim=.6):\n",
    "    '''\n",
    "    orig_sent is a spaCy doc object\n",
    "    min_sim is a minimum similarity value\n",
    "    Returns orig_sent as a string with similar words replaced\n",
    "    '''\n",
    "    new_sent = ''\n",
    "    for t in doc:\n",
    "        comparisons = replacement_dict[t.text]\n",
    "        nearest = max(comparisons, key=comparisons.get)\n",
    "        if comparisons[nearest] > min_sim:\n",
    "            new_sent += nearest + t.whitespace_\n",
    "        else:\n",
    "            new_sent += t.text_with_ws\n",
    "    return new_sent\n",
    "        \n",
    "print(replace_alike(doc, replacement_dict, min_sim=0.6))"
   ]
  },
  {
   "cell_type": "markdown",
   "id": "b944915b-b06d-48a8-9faf-66a36d78acdf",
   "metadata": {
    "tags": []
   },
   "source": [
    "## Scipy cdist approach"
   ]
  },
  {
   "cell_type": "code",
   "execution_count": 67,
   "id": "91183c85-5a17-482a-b4b4-5eec2089499a",
   "metadata": {},
   "outputs": [
    {
     "name": "stdout",
     "output_type": "stream",
     "text": [
      "(24,)\n",
      "(24, 300)\n",
      "(21, 300)\n",
      "[[16  1]\n",
      " [23  1]\n",
      " [22  1]\n",
      " [ 1  1]\n",
      " [14  1]\n",
      " [19  1]\n",
      " [20  1]\n",
      " [ 4  1]\n",
      " [18  2]\n",
      " [17  1]\n",
      " [ 8  1]\n",
      " [ 2  1]\n",
      " [10  1]\n",
      " [11  1]\n",
      " [12  1]\n",
      " [13  1]\n",
      " [ 0  1]\n",
      " [ 6  3]\n",
      " [ 3  1]\n",
      " [ 7  1]\n",
      " [ 5  1]]\n"
     ]
    }
   ],
   "source": [
    "import numpy as np\n",
    "\n",
    "tok_array = np.int64(doc.to_array(['ID'])) # get the ID of each token in the spacy vocabulary and convert to signed int64\n",
    "print(tok_array.shape)\n",
    "tok_vecs = np.take(nlp.vocab.vectors.data, tok_array, axis=0) # get the vectors of these items from the spacy vocabulary\n",
    "print(tok_vecs.shape)\n",
    "\n",
    "unique_vecs, unique_index, inverse_index, counts = np.unique(tok_vecs, return_index=True, return_inverse=True, return_counts=True, axis=0) # remove duplicates and store indices to reverse operation\n",
    "print(unique_vecs.shape)\n",
    "print(np.asarray((unique_index, counts)).T)\n",
    "\n",
    "assert np.array_equal(tok_vecs, unique_vecs[inverse_index]) # check that we can get back to the redundant array"
   ]
  },
  {
   "cell_type": "code",
   "execution_count": 80,
   "id": "4fe90ed0-17c6-4439-9bdd-fbbc99b52662",
   "metadata": {},
   "outputs": [],
   "source": [
    "from scipy.spatial.distance import cdist\n",
    "\n",
    "spacy_similarity_matrix = 1 - cdist(unique_vecs, nlp.vocab.vectors.data, metric='cosine')"
   ]
  },
  {
   "cell_type": "code",
   "execution_count": null,
   "id": "b72661dc-a056-45fb-92c7-9bfd9eb6e897",
   "metadata": {},
   "outputs": [],
   "source": [
    "from scipy.spatial.distance import cdist\n",
    "\n",
    "sims = 1- cdist(unique_vecs, unique_vecs, \"cosine\")\n",
    "\n",
    "# assert np.array_equal(cdist(tok_vecs, tok_vecs, \"cosine\"),\n",
    "#                       distances[:,inverse_index][inverse_index]) # check that this is equivalent to using the redundant array\n",
    "\n",
    "sorted_inds = np.argsort(sims, axis=1)[:,-2] # vector is always most similar to itself. we want the second highest similarity.\n",
    "\n",
    "print('--- insane indexing ---\\n')\n",
    "for tok in doc:\n",
    "    print(tok.ID)\n",
    "    i = inverse_index[tok.i]\n",
    "    print(tok,\n",
    "          doc[unique_index[sorted_inds[i]]],\n",
    "          round(distances[i][sorted_inds[i]], 2)\n",
    "         )    "
   ]
  },
  {
   "cell_type": "code",
   "execution_count": 34,
   "id": "5f874edf-321a-4a41-8ad9-92b4079e9cd0",
   "metadata": {},
   "outputs": [
    {
     "name": "stdout",
     "output_type": "stream",
     "text": [
      "i wrote a letter in a text book document a documents an document an documented written writing.\n",
      "[documented, documents, book, wrote, document, writing, written, letter, an, ., text, a, in, i]\n",
      "[14 10  7  1  8 16 15  3 11 17  6  2  4  0]\n",
      "[13  3 11  7 12 11 10  2  4 11  1  8  4  8  0  6  5  9]\n",
      "[ 1  4  5  6  1  6  5  6 11 13  4  8 11  9]\n",
      "[0.88494083 0.8844704  0.69453719 0.68763318 0.84045595 0.64664609\n",
      " 0.74068423 0.74452313 0.76760147 0.62207215 0.73567678 0.69409804\n",
      " 0.72165744 0.        ]\n",
      "\n",
      "\n",
      "Sanity check:\n",
      "\n",
      "i .\n",
      "wrote written\n",
      "a an\n",
      "letter written\n",
      "in a\n",
      "a an\n",
      "text document\n",
      "book writing\n",
      "document documents\n",
      "a an\n",
      "documents document\n",
      "an a\n",
      "document documents\n",
      "an a\n",
      "documented documents\n",
      "written writing\n",
      "writing written\n",
      ". i\n"
     ]
    }
   ],
   "source": [
    "# display indexes\n",
    "unique_toks = [doc[i] for i in unique_index]\n",
    "print(doc)\n",
    "print(unique_toks)\n",
    "print(unique_index)\n",
    "print(inverse_index)\n",
    "print(sorted_inds)\n",
    "print(distances[13])\n",
    "\n",
    "\n",
    "# check that we can get the same results without fancy indexing\n",
    "print('\\n\\nMore Sanity checks:\\n')\n",
    "test_distances = distances[:, inverse_index][inverse_index]\n",
    "# print(np.argsort(test_distances, axis=1))\n",
    "for i, row in enumerate(test_distances):\n",
    "    valid_dists = np.where(row > 1e-10)[0]\n",
    "    most_sim = valid_dists[row[valid_dists].argmin()]\n",
    "    print(doc[i], doc[most_sim])"
   ]
  },
  {
   "cell_type": "markdown",
   "id": "14159469-c187-4bf9-a11f-0a84087938f1",
   "metadata": {},
   "source": [
    "## Copy spaCy's approach\n",
    "\n",
    "Modification of the spacy.vectors.most_similar method."
   ]
  },
  {
   "cell_type": "code",
   "execution_count": 153,
   "id": "9acb9983-815f-4196-8a91-9d16958c4fb4",
   "metadata": {
    "tags": []
   },
   "outputs": [
    {
     "name": "stdout",
     "output_type": "stream",
     "text": [
      "(24, 300)\n"
     ]
    }
   ],
   "source": [
    "import numpy as np\n",
    "\n",
    "orth_ids, keys = doc.to_array(['ORTH', 'ID']).T\n",
    "lex_vecs = nlp.vocab.vectors.get_batch(orth_ids)\n",
    "print(lex_vecs.shape)"
   ]
  },
  {
   "cell_type": "code",
   "execution_count": 9,
   "id": "602489ce-48d3-49c2-a850-4a46487d2db8",
   "metadata": {},
   "outputs": [
    {
     "name": "stdout",
     "output_type": "stream",
     "text": [
      "I [('it', 0.553), ('had', 0.4549), ('was', 0.4447), ('long', 0.4226)]\n",
      "wrote [('written', 0.5618), ('letter', 0.4247), ('book', 0.4129), ('had', 0.4076)]\n",
      "a [('the', 0.5926), ('it', 0.5669), ('was', 0.5268), ('to', 0.5059)]\n",
      "long [('it', 0.5968), ('many', 0.5612), ('had', 0.5052), ('a', 0.4881)]\n",
      "letter [('written', 0.5598), ('missive', 0.5418), ('words', 0.487), ('paper', 0.4553)]\n",
      "to [('it', 0.6186), ('the', 0.5877), ('and', 0.5524), ('a', 0.5059)]\n",
      "the [('it', 0.6153), ('a', 0.5926), ('to', 0.5877), ('and', 0.5625)]\n",
      "postman [('missive', 0.3305), ('letter', 0.2201), ('I', 0.177), ('wrote', 0.1448)]\n",
      ". [('it', 0.4871), ('and', 0.4324), ('was', 0.3891), ('long', 0.3811)]\n",
      "The [('it', 0.6153), ('a', 0.5926), ('to', 0.5877), ('and', 0.5625)]\n",
      "missive [('letter', 0.5418), ('postman', 0.3305), ('wrote', 0.3258), ('written', 0.3114)]\n",
      "had [('was', 0.8105), ('it', 0.5681), ('many', 0.5343), ('and', 0.5099)]\n",
      "many [('it', 0.5702), ('long', 0.5612), ('had', 0.5343), ('and', 0.5133)]\n",
      "words [('written', 0.5441), ('letter', 0.487), ('it', 0.4498), ('many', 0.3962)]\n",
      "and [('the', 0.5625), ('to', 0.5524), ('it', 0.5214), ('many', 0.5133)]\n",
      "the [('it', 0.6153), ('a', 0.5926), ('to', 0.5877), ('and', 0.5625)]\n",
      "paper [('book', 0.48), ('letter', 0.4553), ('on', 0.3708), ('written', 0.366)]\n",
      "it [('was', 0.63), ('to', 0.6186), ('the', 0.6153), ('long', 0.5968)]\n",
      "was [('had', 0.8105), ('it', 0.63), ('a', 0.5268), ('the', 0.5049)]\n",
      "written [('book', 0.5718), ('wrote', 0.5618), ('letter', 0.5598), ('words', 0.5441)]\n",
      "on [('the', 0.4926), ('it', 0.4636), ('and', 0.4465), ('to', 0.4288)]\n"
     ]
    }
   ],
   "source": [
    "# import spacy\n",
    "# nlp = spacy.load('en_core_web_lg')\n",
    "# doc = nlp('I wrote a long letter to the postman. The missive had many words and the paper it was written on was book quality')\n",
    "\n",
    "import numpy as np\n",
    "\n",
    "def most_similar(spacy_doc, batch_size=1024, n=4, sort=True, ignore_identities=True):\n",
    "    \"\"\"For each token in the document, find the n most similar tokens\n",
    "    to it, by cosine.\n",
    "    Queries are by vector. Results are returned as a `(orth_ids, match_ids,\n",
    "    scores)` tuple. If the doc is long, the calculations are performed in\n",
    "    chunks, to avoid consuming too much memory. You can set the `batch_size`\n",
    "    to control the size/space trade-off during the calculations.\n",
    "    spacy_doc (spacy.Doc): A spacy Doc with vector tables.\n",
    "    batch_size (int): The batch size to use.\n",
    "    n (int): The number of matches to return for each token.\n",
    "    sort (bool): Whether to sort the n entries returned by score.\n",
    "    RETURNS (tuple): The most similar entries as a `(orth_ids, match_ids, scores)`\n",
    "        tuple.\n",
    "    \"\"\"\n",
    "    # Get relevant information about spacy_doc as numpy array\n",
    "    orth_ids, rows = spacy_doc.to_array(['ORTH', 'ID']).T\n",
    "    \n",
    "    # Prepare a dictionary mapping rows to orth_ids\n",
    "    row2key = {row: key for key, row in zip(orth_ids, rows)}\n",
    "    \n",
    "    # Get the vectors from the vector table\n",
    "    queries = spacy_doc.vocab.vectors.data[rows]\n",
    "    \n",
    "    # Deduplicate the queries\n",
    "    queries, unique, inverse = np.unique(queries, return_index=True, return_inverse=True, axis=0)\n",
    "\n",
    "    # Normalize the vectors. We care about angle, not magnitude for cosine 'distance'.\n",
    "    norms = np.linalg.norm(queries, axis=1, keepdims=True)\n",
    "    norms[norms == 0] = 1\n",
    "    vectors = queries / norms\n",
    "\n",
    "    best_rows = np.zeros((queries.shape[0], n), dtype='i')\n",
    "    scores = np.zeros((queries.shape[0], n), dtype='f')\n",
    "    \n",
    "    # Work in batches, to avoid memory problems.\n",
    "    for i in range(0, queries.shape[0], batch_size):\n",
    "        batch = queries[i : i+batch_size]\n",
    "        batch_norms = np.linalg.norm(batch, axis=1, keepdims=True)\n",
    "        batch_norms[batch_norms == 0] = 1\n",
    "        batch /= batch_norms\n",
    "        sims = np.dot(batch, vectors.T) # Cosine 'distance' is pretty simple.\n",
    "        \n",
    "        if ignore_identities:\n",
    "            sims[np.isclose(sims, 1)] = 0\n",
    "            \n",
    "        best_rows[i:i+batch_size] = np.argpartition(sims, -n, axis=1)[:,-n:]\n",
    "        scores[i:i+batch_size] = np.partition(sims, -n, axis=1)[:,-n:]\n",
    "\n",
    "        if sort and n >= 2:\n",
    "            sorted_index = np.arange(scores.shape[0])[:,None][i:i+batch_size],np.argsort(scores[i:i+batch_size], axis=1)[:,::-1]\n",
    "            scores[i:i+batch_size] = scores[sorted_index]\n",
    "            best_rows[i:i+batch_size] = best_rows[sorted_index]\n",
    "\n",
    "    for i, j in np.ndindex(best_rows.shape):\n",
    "        best_rows[i, j] = rows[unique][best_rows[i, j]]\n",
    "    \n",
    "    # Round values really close to 1 or -1\n",
    "    scores = np.around(scores, decimals=4, out=scores)\n",
    "    # Account for numerical error. We want to return in range -1, 1\n",
    "    scores = np.clip(scores, a_min=-1, a_max=1, out=scores)\n",
    "    \n",
    "    # Align deduplicated results with original queries\n",
    "    scores = scores[inverse]\n",
    "    best_rows = best_rows[inverse]\n",
    "    \n",
    "    match_ids = np.asarray(\n",
    "        [[row2key[row] for row in best_rows[i] if row in row2key]\n",
    "                for i in range(len(vectors)) ], dtype=\"uint64\")\n",
    "    \n",
    "    return (orth_ids, match_ids, scores)\n",
    "\n",
    "test = most_similar(doc)\n",
    "\n",
    "for tok_id, match_ids, scores in zip(*test):\n",
    "    print(nlp.vocab.strings[tok_id],\n",
    "          [(nlp.vocab.strings[match_id], score) for match_id, score in zip(match_ids, scores)])"
   ]
  },
  {
   "cell_type": "markdown",
   "id": "4d034181-5f1a-43c5-83c2-a1e1db8389d6",
   "metadata": {},
   "source": [
    "## DBSCAN Approach"
   ]
  },
  {
   "cell_type": "code",
   "execution_count": 31,
   "id": "d0b8a995-e13a-4583-8e75-4722a372ea18",
   "metadata": {},
   "outputs": [
    {
     "name": "stdout",
     "output_type": "stream",
     "text": [
      "(24, 300)\n",
      "(21, 300)\n"
     ]
    }
   ],
   "source": [
    "import numpy as np\n",
    "\n",
    "tok_array = np.int64(doc.to_array(['ID'])) # get the ID of each token in the spacy vocabulary and convert to signed int64\n",
    "# print(tok_array)\n",
    "tok_vecs = np.take(nlp.vocab.vectors.data, tok_array, axis=0) # get the vectors of these items from the spacy vocabulary\n",
    "print(tok_vecs.shape)\n",
    "\n",
    "unique_vecs, unique_index, inverse_index = np.unique(tok_vecs, return_index=True, return_inverse=True, axis=0) # remove duplicates and store indices to reverse operation\n",
    "print(unique_vecs.shape)\n",
    "assert np.array_equal(tok_vecs, unique_vecs[inverse_index]) # check that we can get back to the redundant array"
   ]
  },
  {
   "cell_type": "code",
   "execution_count": 3,
   "id": "65d30fb6-72da-4351-802b-f47944d52a25",
   "metadata": {},
   "outputs": [],
   "source": [
    "import numpy as np\n",
    "\n",
    "from sklearn.cluster import DBSCAN"
   ]
  },
  {
   "cell_type": "code",
   "execution_count": 4,
   "id": "0d93d598-034f-443e-9edb-18d4aa6539f5",
   "metadata": {},
   "outputs": [
    {
     "name": "stdout",
     "output_type": "stream",
     "text": [
      "Estimated number of clusters: 6\n",
      "Estimated number of noise points: 0\n"
     ]
    }
   ],
   "source": [
    "db = DBSCAN(eps=0.5, metric='cosine', min_samples=1).fit(unique_vecs)\n",
    "core_samples_mask = np.zeros_like(db.labels_, dtype=bool)\n",
    "core_samples_mask[db.core_sample_indices_] = True\n",
    "labels = db.labels_\n",
    "\n",
    "# Number of clusters in labels, ignoring noise if present.\n",
    "n_clusters_ = len(set(labels)) - (1 if -1 in labels else 0)\n",
    "n_noise_ = list(labels).count(-1)\n",
    "\n",
    "print(\"Estimated number of clusters: %d\" % n_clusters_)\n",
    "print(\"Estimated number of noise points: %d\" % n_noise_)"
   ]
  },
  {
   "cell_type": "code",
   "execution_count": 6,
   "id": "81719b1f-d9c3-4c5b-ab81-e1a79fc9ca2e",
   "metadata": {},
   "outputs": [
    {
     "data": {
      "image/png": "[encoded data removed]",
      "text/plain": [
       "<Figure size 432x288 with 1 Axes>"
      ]
     },
     "metadata": {
      "needs_background": "light"
     },
     "output_type": "display_data"
    }
   ],
   "source": [
    "import matplotlib.pyplot as plt\n",
    "\n",
    "# Black removed and is used for noise instead.\n",
    "unique_labels = set(labels)\n",
    "colors = [plt.cm.Spectral(each) for each in np.linspace(0, 1, len(unique_labels))]\n",
    "for k, col in zip(unique_labels, colors):\n",
    "    if k == -1:\n",
    "        # Black used for noise.\n",
    "        col = [0, 0, 0, 1]\n",
    "\n",
    "    class_member_mask = labels == k\n",
    "\n",
    "    xy = unique_vecs[class_member_mask & core_samples_mask]\n",
    "    plt.plot(\n",
    "        xy[:, 0],\n",
    "        xy[:, 1],\n",
    "        \"o\",\n",
    "        markerfacecolor=tuple(col),\n",
    "        markeredgecolor=\"k\",\n",
    "        markersize=14,\n",
    "    )\n",
    "\n",
    "    xy = unique_vecs[class_member_mask & ~core_samples_mask]\n",
    "    plt.plot(\n",
    "        xy[:, 0],\n",
    "        xy[:, 1],\n",
    "        \"o\",\n",
    "        markerfacecolor=tuple(col),\n",
    "        markeredgecolor=\"k\",\n",
    "        markersize=6,\n",
    "    )\n",
    "\n",
    "plt.title(\"Estimated number of clusters: %d\" % n_clusters_)\n",
    "plt.show()"
   ]
  },
  {
   "cell_type": "markdown",
   "id": "92702cac-eceb-4238-844f-c362b48837a1",
   "metadata": {},
   "source": [
    "## T-SNE Approach"
   ]
  },
  {
   "cell_type": "code",
   "execution_count": 48,
   "id": "bf48fcae-7321-460a-a868-3692504b247b",
   "metadata": {},
   "outputs": [
    {
     "name": "stderr",
     "output_type": "stream",
     "text": [
      "/opt/conda/lib/python3.9/site-packages/sklearn/manifold/_t_sne.py:982: FutureWarning: The PCA initialization in TSNE will change to have the standard deviation of PC1 equal to 1e-4 in 1.2. This will ensure better convergence.\n",
      "  warnings.warn(\n"
     ]
    },
    {
     "data": {
      "image/png": "[encoded data removed]",
      "text/plain": [
       "<Figure size 1152x1152 with 1 Axes>"
      ]
     },
     "metadata": {
      "needs_background": "light"
     },
     "output_type": "display_data"
    }
   ],
   "source": [
    "from sklearn.manifold import TSNE\n",
    "import numpy as np\n",
    "\n",
    "def tsne_plot(spacy_doc):\n",
    "    \"Creates a TSNE model and plots it.\"\n",
    "    \n",
    "    # get the ID of each token in the spacy vocabulary and convert to signed int64\n",
    "    tok_array = np.int64(spacy_doc.to_array(['ID']))\n",
    "    \n",
    "    # get the vectors of these items from the spacy vocabulary\n",
    "    tok_vecs = np.take(spacy_doc.vocab.vectors.data, tok_array, axis=0)\n",
    "    \n",
    "    # remove duplicates and store indices to reverse operation\n",
    "    unique_vecs, unique_index = np.unique(tok_vecs,\n",
    "                                          return_index=True,\n",
    "                                          axis=0)\n",
    "    \n",
    "    labels = [spacy_doc[i].text for i in unique_index]\n",
    "    \n",
    "    tsne_model = TSNE(perplexity=2,\n",
    "                      n_components=2,\n",
    "                      init='pca',\n",
    "                      metric='cosine',\n",
    "                      learning_rate='auto',\n",
    "                      square_distances=True,\n",
    "                      n_iter=2500,\n",
    "                      random_state=42)\n",
    "    \n",
    "    coords = tsne_model.fit_transform(unique_vecs)\n",
    "        \n",
    "    plt.figure(figsize=(16, 16)) \n",
    "    for i, (x, y) in enumerate(coords.tolist()):\n",
    "        plt.scatter(x, y)\n",
    "        plt.annotate(labels[i],\n",
    "                     xy=(x, y),\n",
    "                     xytext=(5, 2),\n",
    "                     textcoords='offset points',\n",
    "                     ha='right',\n",
    "                     va='bottom')\n",
    "    plt.show()\n",
    "    \n",
    "tsne_plot(doc)"
   ]
  }
 ],
 "metadata": {
  "kernelspec": {
   "display_name": "Python 3 (ipykernel)",
   "language": "python",
   "name": "python3"
  },
  "language_info": {
   "codemirror_mode": {
    "name": "ipython",
    "version": 3
   },
   "file_extension": ".py",
   "mimetype": "text/x-python",
   "name": "python",
   "nbconvert_exporter": "python",
   "pygments_lexer": "ipython3",
   "version": "3.9.7"
  }
 },
 "nbformat": 4,
 "nbformat_minor": 5
}
